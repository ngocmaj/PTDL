import numpy as np
import pandas as pd


file_path = 'spotify-2023.csv'


df = pd.read_csv(file_path, encoding='latin-1')


df.head()


df.tail()


df.describe()


df.shape


df.columns 


df['streams']


name = df[['track_name', 'artist(s)_name']]
print(name)


df['track_name'].isnull().sum()


df['artist(s)_name'].isnull().sum()



